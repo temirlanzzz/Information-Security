{
  "cells": [
    {
      "cell_type": "markdown",
      "metadata": {
        "id": "Bv-9KTxpth9I"
      },
      "source": [
        "### Information Security - Worksheet Two - Part b\n",
        "\n",
        "### Using this Jupyter Notebook, solve each of the following tasks using Python\n"
      ]
    },
    {
      "cell_type": "code",
      "execution_count": null,
      "metadata": {
        "id": "04_x_y7lth9K",
        "outputId": "324389ac-e73a-4419-9040-31201bb4ab35"
      },
      "outputs": [
        {
          "name": "stdout",
          "output_type": "stream",
          "text": [
            "Enter phrase for ROT13 encryption: Zz\n",
            "original phrase:  Zz\n",
            "encrypted phrase:  Mm\n",
            "Enter phrase for ROT13 encryption: Zac\n",
            "original phrase:  Zac\n",
            "encrypted phrase:  Mnp\n",
            "Enter phrase for ROT13 encryption: halt\n"
          ]
        }
      ],
      "source": [
        "# Symmetric Encryption\n",
        "\n",
        "phrase = input('Enter phrase for ROT13 encryption: ')\n",
        "while phrase != \"halt\":\n",
        "    encrypted_phrase = \"\"\n",
        "    for char in phrase:\n",
        "        ascii_value = ord(char)\n",
        "        if char == ' ':\n",
        "            rotated_char = ascii_value\n",
        "        elif 13+ascii_value > 90 and ascii_value < 96: # this is a capital letter that has to be cycled\n",
        "            rotated_char = 64+13-(90-ascii_value)\n",
        "        elif 13+ascii_value >= 123:\n",
        "            rotated_char = 96+13-(122-ascii_value)\n",
        "        else:\n",
        "            rotated_char = 13+ascii_value\n",
        "        encrypted_phrase += chr(rotated_char)\n",
        "    print(\"original phrase: \", phrase)\n",
        "    print(\"encrypted phrase: \", encrypted_phrase)\n",
        "    phrase = input('Enter phrase for ROT13 encryption: ')"
      ]
    },
    {
      "cell_type": "code",
      "execution_count": null,
      "metadata": {
        "id": "ARyZ1JEfth9M",
        "outputId": "89c92a5b-aeda-4996-d846-f56144b13dfa"
      },
      "outputs": [
        {
          "name": "stdout",
          "output_type": "stream",
          "text": [
            "Enter encrypted phrase: Pbyhza Zbgure\n",
            "Decrypted phrase:  column mother   Rotation step:  13\n"
          ]
        }
      ],
      "source": [
        "#Decryption using rotation algorithm\n",
        "\n",
        "def rotateByK(encrypted_phrase, k):\n",
        "    decrypted_phrase = \"\"\n",
        "    for char in encrypted_phrase:\n",
        "        ascii_value = ord(char)\n",
        "        if char == ' ':\n",
        "            rotated_char = ascii_value\n",
        "        elif k+ascii_value > 90 and ascii_value < 96: # this is a capital letter that has to be cycled\n",
        "            rotated_char = 64+k-(90-ascii_value)\n",
        "        elif k+ascii_value >= 123:\n",
        "            rotated_char = 96+k-(122-ascii_value)\n",
        "        else:\n",
        "            rotated_char = k+ascii_value\n",
        "        decrypted_phrase += chr(rotated_char)\n",
        "    #print(decrypted_phrase)\n",
        "    return decrypted_phrase.lower()\n",
        "def findRotationAlgo(encrypted_phrase_list, english_words): \n",
        "    decrypted_phrase = \"\"\n",
        "    rotation_step = 0\n",
        "    for encrypted_word in encrypted_phrase_list:\n",
        "        for i in range(0, 27):\n",
        "            decrypted_word = rotateByK(encrypted_word, i)\n",
        "            if decrypted_word in english_words:\n",
        "                decrypted_phrase += decrypted_word+' '\n",
        "                rotation_step = i\n",
        "                break\n",
        "    return decrypted_phrase, i\n",
        "encrypted_phrase = input(\"Enter encrypted phrase: \")\n",
        "encrypted_phrase_list = encrypted_phrase.split() \n",
        "file = open(\"list of British English words.txt\", \"r\")\n",
        "english_words = file.read().splitlines()\n",
        "decrypted_phrase, rotation_step = findRotationAlgo(encrypted_phrase_list, english_words)\n",
        "print(\"Decrypted phrase: \", decrypted_phrase, \" Rotation step: \", rotation_step)"
      ]
    },
    {
      "cell_type": "code",
      "execution_count": null,
      "metadata": {
        "id": "O_g_JO_Bth9N",
        "outputId": "40a1ab65-a952-4df1-8e36-28ca1a6d1f0b"
      },
      "outputs": [
        {
          "name": "stdout",
          "output_type": "stream",
          "text": [
            "Enter phrase for Viginere encryption: kazakhstan abc\n",
            "original phrase:  kazakhstan abc\n",
            "encrypted phrase:  uayauokmaa ace\n"
          ]
        }
      ],
      "source": [
        "# Viginere Cipher\n",
        "\n",
        "def viginere(phrase):\n",
        "    encrypted_phrase = \"\"\n",
        "    for char in phrase:\n",
        "        ascii_value = ord(char)\n",
        "        ecnrypted_ascii_value = ascii_value + (ascii_value - 97)\n",
        "        if char == ' ':\n",
        "            rotated_char = ascii_value\n",
        "        elif ecnrypted_ascii_value >= 123:\n",
        "            rotated_char = 96 + (ecnrypted_ascii_value - 122)\n",
        "        else:\n",
        "            rotated_char = ecnrypted_ascii_value\n",
        "        encrypted_phrase += chr(rotated_char)\n",
        "    return encrypted_phrase\n",
        "phrase = input('Enter phrase for Viginere encryption: ')\n",
        "encrypted_phrase = viginere(phrase)\n",
        "print(\"original phrase: \", phrase)\n",
        "print(\"encrypted phrase: \", encrypted_phrase)"
      ]
    },
    {
      "cell_type": "code",
      "execution_count": null,
      "metadata": {
        "id": "gsTRcj-kth9O",
        "outputId": "ee29cea8-9922-4a52-f57f-4dbf2dd26173"
      },
      "outputs": [
        {
          "name": "stdout",
          "output_type": "stream",
          "text": [
            "Enter phrase for decryption: svool\n",
            "Atbash cipher was used for encryption. Decrypted phrase:  hello\n"
          ]
        }
      ],
      "source": [
        "#  Code Breaker V2\n",
        "\n",
        "def rotateByK(encrypted_phrase, k):\n",
        "    decrypted_phrase = \"\"\n",
        "    for char in encrypted_phrase:\n",
        "        ascii_value = ord(char)\n",
        "        if char == ' ':\n",
        "            rotated_char = ascii_value\n",
        "        elif k+ascii_value > 90 and ascii_value < 96: # this is a capital letter that has to be cycled\n",
        "            rotated_char = 64+k-(90-ascii_value)\n",
        "        elif k+ascii_value >= 123:\n",
        "            rotated_char = 96+k-(122-ascii_value)\n",
        "        else:\n",
        "            rotated_char = k+ascii_value\n",
        "        decrypted_phrase += chr(rotated_char)\n",
        "    #print(decrypted_phrase)\n",
        "    return decrypted_phrase.lower()\n",
        "def findRotationAlgo(encrypted_phrase_list, english_words): \n",
        "    decrypted_phrase = \"\"\n",
        "    rotation_step = 0\n",
        "    for encrypted_word in encrypted_phrase_list:\n",
        "        for i in range(0, 27):\n",
        "            decrypted_word = rotateByK(encrypted_word, i)\n",
        "            if decrypted_word in english_words:\n",
        "                decrypted_phrase += decrypted_word+' '\n",
        "                rotation_step = i\n",
        "                break\n",
        "    return decrypted_phrase, i\n",
        "def viginere(phrase):\n",
        "    encrypted_phrase = \"\"\n",
        "    for char in phrase:\n",
        "        ascii_value = ord(char)\n",
        "        ecnrypted_ascii_value = ascii_value + (ascii_value - 97)\n",
        "        if char == ' ':\n",
        "            rotated_char = ascii_value\n",
        "        elif ecnrypted_ascii_value >= 123:\n",
        "            rotated_char = 96 + (ecnrypted_ascii_value - 122)\n",
        "        else:\n",
        "            rotated_char = ecnrypted_ascii_value\n",
        "        encrypted_phrase += chr(rotated_char)\n",
        "    return encrypted_phrase\n",
        "def atbashCipher(phrase):\n",
        "    ans = ''\n",
        "    return ans.join([chr(219 - ord(char)) for char in phrase])\n",
        "phrase = input('Enter phrase for decryption: ')\n",
        "phrase = phrase.lower()\n",
        "# first try Viginere:\n",
        "file = open(\"list of British English words.txt\", \"r\")\n",
        "english_words = file.read().splitlines()\n",
        "decrypted_phrase = viginere(phrase)\n",
        "if decrypted_phrase in english_words:\n",
        "    print(\"Viginere was used for encryption. Decrypted phrase: \", decrypted_phrase)\n",
        "else:\n",
        "    # try rotation \n",
        "    phrase_list = phrase.split()\n",
        "    decrypted_phrase, rotation_step = findRotationAlgo(phrase_list, english_words)\n",
        "    if decrypted_phrase != \"\":\n",
        "        print(\"Rotation was used for encryption. Decrypted phrase: \", decrypted_phrase)\n",
        "        print(\"Rotation step: \",rotation_step)\n",
        "    else:\n",
        "        # try atbash cipher\n",
        "        decrypted_phrase = atbashCipher(phrase)\n",
        "        if decrypted_phrase in english_words:\n",
        "            print(\"Atbash cipher was used for encryption. Decrypted phrase: \", decrypted_phrase)\n",
        "        else:\n",
        "            print(\"Cannot decode\")"
      ]
    },
    {
      "cell_type": "code",
      "execution_count": null,
      "metadata": {
        "id": "KqD5tB_Gth9P"
      },
      "outputs": [],
      "source": []
    }
  ],
  "metadata": {
    "kernelspec": {
      "display_name": "Python 3 (ipykernel)",
      "language": "python",
      "name": "python3"
    },
    "language_info": {
      "codemirror_mode": {
        "name": "ipython",
        "version": 3
      },
      "file_extension": ".py",
      "mimetype": "text/x-python",
      "name": "python",
      "nbconvert_exporter": "python",
      "pygments_lexer": "ipython3",
      "version": "3.9.7"
    },
    "colab": {
      "provenance": []
    }
  },
  "nbformat": 4,
  "nbformat_minor": 0
}