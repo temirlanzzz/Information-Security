{
  "cells": [
    {
      "cell_type": "markdown",
      "metadata": {
        "id": "GahhuhBTr2Ot"
      },
      "source": [
        "### Information Security - Worksheet One - Part b\n",
        "\n",
        "### Using this Jupyter Notebook, solve each of the following tasks using Python\n"
      ]
    },
    {
      "cell_type": "code",
      "execution_count": null,
      "metadata": {
        "colab": {
          "base_uri": "https://localhost:8080/"
        },
        "id": "LCij-3oqr2Ox",
        "outputId": "18f32354-e57a-42b4-eb27-bc5a968b12b1"
      },
      "outputs": [
        {
          "name": "stdout",
          "output_type": "stream",
          "text": [
            "Enter new credit card number:7992739871\n",
            "checksum:  3\n"
          ]
        }
      ],
      "source": [
        "# Checksum Digit Generator using Lunh Algorithm\n",
        "\n",
        "\n",
        "def luhnAlgorithm(number):\n",
        "    number = number[::-1]\n",
        "    checksum = 0\n",
        "    for i in range(len(number)):\n",
        "        if(i%2==0): # even\n",
        "            doubled_even_digit = 2*int(number[i])\n",
        "            if doubled_even_digit >= 10:\n",
        "                checksum += doubled_even_digit%10 + 1 # doubled digit cannot be greater than 18, therefore add 1 and doubled_even_digit%10\n",
        "            else:\n",
        "                checksum += doubled_even_digit\n",
        "        else: # odd\n",
        "            checksum += int(number[i])\n",
        "    return 10-checksum % 10\n",
        "number = input('Enter new credit card number:')\n",
        "print('checksum: ',luhnAlgorithm(number))"
      ]
    },
    {
      "cell_type": "code",
      "execution_count": null,
      "metadata": {
        "colab": {
          "base_uri": "https://localhost:8080/"
        },
        "id": "8yhnFyHcr2Oy",
        "outputId": "8cbc20c7-54aa-4b60-802a-209287d0dbb9"
      },
      "outputs": [
        {
          "name": "stdout",
          "output_type": "stream",
          "text": [
            "Enter new credit card number for validation:79927398711\n",
            "Credit card is invalid: incorrect checksum\n",
            "Correct checksum: 3\n"
          ]
        }
      ],
      "source": [
        "# Checksum Validator\n",
        "\n",
        "number2 = input('Enter new credit card number for validation:')\n",
        "checksum = luhnAlgorithm(number2[0:len(number2)-1])\n",
        "if(int(number2)%10 == checksum):\n",
        "    print('Credit card is valid')\n",
        "else:\n",
        "    print('Credit card is invalid: incorrect checksum')\n",
        "    print('Correct checksum:',checksum)\n"
      ]
    },
    {
      "cell_type": "code",
      "execution_count": null,
      "metadata": {
        "colab": {
          "base_uri": "https://localhost:8080/"
        },
        "id": "DFR4-wtTr2Oy",
        "outputId": "0b9a5d51-7d8d-4efb-caba-d00c95aafcc2"
      },
      "outputs": [
        {
          "name": "stdout",
          "output_type": "stream",
          "text": [
            "Enter a string of text: Bla bla bla\n",
            "646168e06ba20d739d3d9bb76487db86\n"
          ]
        }
      ],
      "source": [
        "# MD5 Generator\n",
        "\n",
        "\n",
        "from hashlib import md5\n",
        "text = input('Enter a string of text: ')\n",
        "hashed_text = md5(text.encode())\n",
        "\n",
        "print(hashed_text.hexdigest())"
      ]
    },
    {
      "cell_type": "code",
      "execution_count": null,
      "metadata": {
        "id": "-5-v5Nb5r2Oy"
      },
      "outputs": [],
      "source": [
        "# MD5 Checker\n",
        "\n",
        "from os import listdir\n",
        "from os.path import isfile, join\n",
        "from hashlib import md5\n",
        "\n",
        "md5_values_file = 'md5values3.txt'\n",
        "md5_list = []\n",
        "md5_file = open(md5_values_file)\n",
        "for line in md5_file:\n",
        "    md5_list.append(line)\n",
        "md5_file.close()\n",
        "storage = input('Enter storage drive and path: ')\n",
        "print(md5_list)\n",
        "files = []\n",
        "for filename in listdir(storage):\n",
        "    full_filename = storage+\"\\\\\"+filename\n",
        "    print(full_filename)\n",
        "    if isfile(full_filename):\n",
        "        with open(full_filename, \"rb\") as file:\n",
        "            md5_file_hash_hex = md5(file.read()).hexdigest()\n",
        "        md5_file_hash_hex += '\\n'\n",
        "        print(md5_file_hash_hex)\n",
        "        if md5_file_hash_hex in md5_list:\n",
        "            print('file ',file,' has been seen before')\n",
        "        else:\n",
        "            print(\"File not seen: \")\n",
        "            md5_file = open(md5_values_file, 'a')\n",
        "            md5_file.write(md5_file_hash_hex+'\\n')\n",
        "            md5_file.close()\n",
        "    "
      ]
    },
    {
      "cell_type": "code",
      "execution_count": null,
      "metadata": {
        "id": "JVnrQPgkr2Oz"
      },
      "outputs": [],
      "source": []
    },
    {
      "cell_type": "code",
      "execution_count": null,
      "metadata": {
        "id": "3XX2YZrKtnz0"
      },
      "outputs": [],
      "source": []
    },
    {
      "cell_type": "code",
      "execution_count": null,
      "metadata": {
        "id": "Tu3vl0eStnz0"
      },
      "outputs": [],
      "source": []
    }
  ],
  "metadata": {
    "colab": {
      "provenance": []
    },
    "kernelspec": {
      "display_name": "Python 3 (ipykernel)",
      "language": "python",
      "name": "python3"
    },
    "language_info": {
      "codemirror_mode": {
        "name": "ipython",
        "version": 3
      },
      "file_extension": ".py",
      "mimetype": "text/x-python",
      "name": "python",
      "nbconvert_exporter": "python",
      "pygments_lexer": "ipython3",
      "version": "3.9.7"
    }
  },
  "nbformat": 4,
  "nbformat_minor": 0
}